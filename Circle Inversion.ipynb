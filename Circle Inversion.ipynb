{
 "cells": [
  {
   "cell_type": "markdown",
   "metadata": {},
   "source": [
    "# Circle Inversion"
   ]
  },
  {
   "cell_type": "code",
   "execution_count": 11,
   "metadata": {},
   "outputs": [
    {
     "data": {
      "text/html": [
       "<script>\n",
       "  function code_toggle() {\n",
       "    if (code_shown){\n",
       "      $('div.input').hide('500');\n",
       "      $('#toggleButton').val('Show Code')\n",
       "    } else {\n",
       "      $('div.input').show('500');\n",
       "      $('#toggleButton').val('Hide Code')\n",
       "    }\n",
       "    code_shown = !code_shown\n",
       "  }\n",
       "  \n",
       "  $( document ).ready(function(){\n",
       "    code_shown=false;\n",
       "    $('div.input').hide()\n",
       "  });\n",
       "</script>\n",
       "<form action=\"javascript:code_toggle()\"><input type=\"submit\" id=\"toggleButton\" value=\"Show Code\"></form>"
      ],
      "text/plain": [
       "<IPython.core.display.HTML object>"
      ]
     },
     "execution_count": 11,
     "metadata": {},
     "output_type": "execute_result"
    }
   ],
   "source": [
    "#Running this cell displays a button to toggle hidden code\n",
    "#From: http://chris-said.io/2016/02/13/how-to-make-polished-jupyter-presentations-with-optional-code-visibility/\n",
    "\n",
    "from IPython.display import HTML\n",
    "\n",
    "HTML('''<script>\n",
    "  function code_toggle() {\n",
    "    if (code_shown){\n",
    "      $('div.input').hide('500');\n",
    "      $('#toggleButton').val('Show Code')\n",
    "    } else {\n",
    "      $('div.input').show('500');\n",
    "      $('#toggleButton').val('Hide Code')\n",
    "    }\n",
    "    code_shown = !code_shown\n",
    "  }\n",
    "  \n",
    "  $( document ).ready(function(){\n",
    "    code_shown=false;\n",
    "    $('div.input').hide()\n",
    "  });\n",
    "</script>\n",
    "<form action=\"javascript:code_toggle()\"><input type=\"submit\" id=\"toggleButton\" value=\"Show Code\"></form>''')"
   ]
  },
  {
   "cell_type": "markdown",
   "metadata": {},
   "source": [
    "Circle inversion is a mathematical tool that involves reflecting points across a circle. What does this mean exactly? We start with a circle of radius $r$ and center point $O$. All of our \"reflections\" will be done with respect to this circle. Now let's take a point $A$ inside the circle, with distance $d$ from the center. Its reflection, point $A'$, will be in line with the line connection the center $O$ and point $A$, and it will be a distance of $\\frac{r^2}{d}$ away from $O$.\n",
    "\n",
    "Another way to state this is that $OA^2 * OA'^2 = r^2$."
   ]
  },
  {
   "cell_type": "markdown",
   "metadata": {},
   "source": [
    "![Inversion](https://github.com/Ariel-VB/Circle-Inversion/blob/master/Inversion2.png?raw=true)"
   ]
  },
  {
   "cell_type": "markdown",
   "metadata": {},
   "source": [
    "Let's think carefully about what this means. Any point inside of the circle will be inverted *outside* of the circle, and likewise any point outside of the circle will be inverted *inside* the circle.  We're essentially turning the circle inside-out, inverting it. Applying the inversion twice gives us the point we started with: $(A')' = A$. Any point that is on the circle will not move when it is inverted, since $\\frac{r^2}{r} = r$. As points get closer to the center, their inversions get farther and farther away. The point $O$ at the center inverts to infinity, since we end up dividing by zero.\n",
    "\n",
    "We can also reflect more complicated objects like lines and circles.\n",
    "\n",
    "### Experiment with inversions!\n",
    "\n",
    "With the widget below, you can experiment by inverting different types of shapes over the unit circle. The original object will be shown in blue, and its inversion will be showwn in red. For a point, you can adjust its vertical and horizontal positions through the $x$ and $y$ sliders. For a line, you can adjust its angle and vertical intercept $b$. For a circle, you can adjust the position of the center and its radius."
   ]
  },
  {
   "cell_type": "code",
   "execution_count": 39,
   "metadata": {},
   "outputs": [],
   "source": [
    "import numpy as np\n",
    "import matplotlib\n",
    "import matplotlib.pyplot as plt\n",
    "from ipywidgets import interact, interactive, Layout, Button, Box\n",
    "import ipywidgets as widgets\n",
    "from IPython.display import clear_output\n",
    "import warnings\n",
    "warnings.filterwarnings(\"ignore\")\n",
    "\n",
    "%matplotlib inline\n",
    "\n",
    "class Invert():\n",
    "    \n",
    "    \"\"\"\n",
    "        Plots the inverse of the shape given:\n",
    "        shape = \"point\", \"line\", or \"circle\"\n",
    "\n",
    "        x, y: are used as point coordinates and circle center coordinates\n",
    "        m, b: are used as slope and intercept of a line\n",
    "        r: is used as the radius of a circle\n",
    "    \"\"\"\n",
    "    \n",
    "    shape = None\n",
    "    x = None\n",
    "    y = None\n",
    "    m = None\n",
    "    b = None\n",
    "    r = None\n",
    "    \n",
    "    def __init__(self, shape, x = 0, y = 0, m = 0, b = 0, r = 0):\n",
    "        \n",
    "        self.shape = shape\n",
    "        self.x = x\n",
    "        self.y = y\n",
    "        self.m = m\n",
    "        self.b = b\n",
    "        self.r = r\n",
    "\n",
    "    def plot_inversion(self, **kwargs):\n",
    "\n",
    "        '''\n",
    "        Plots the given shape and its inverse.\n",
    "        Takes shape, x, y, m, b, and r values as **kwargs.\n",
    "        '''\n",
    "        #Setting values given in kwargs:\n",
    "        for key, value in kwargs.items():\n",
    "            \n",
    "            if key == \"shape\":\n",
    "                self.shape = value\n",
    "                \n",
    "            if key == \"x\":\n",
    "                self.x = value\n",
    "                \n",
    "            if key == \"y\":\n",
    "                self.y = value\n",
    "                \n",
    "            if key == \"m\":\n",
    "                self.m = value\n",
    "                \n",
    "            if key == \"b\":\n",
    "                self.b = value\n",
    "                \n",
    "            if key == \"r\":\n",
    "                self.r = value\n",
    "                \n",
    "            #For inverting a line; the angle (0-pi radians) will be used instead of the slope (m)\n",
    "            if key == \"angle\":\n",
    "                self.m = 1/np.tan(np.deg2rad(value))\n",
    "\n",
    "        #Setting up the graph:\n",
    "        fig = plt.figure(figsize=(20, 20))\n",
    "        ax = plt.subplot()\n",
    "        ax.grid(False)\n",
    "\n",
    "        #Plotting the unit circle and center point:\n",
    "        circle = plt.Circle((0,0), radius=1, color='k', fill=False)\n",
    "        ax.add_patch(circle)\n",
    "        plt.plot(0, 0, \"ko\")\n",
    "\n",
    "        #inverting a point:\n",
    "        if self.shape == \"point\":\n",
    "\n",
    "            #Plot the point given:\n",
    "            plt.plot(self.x, self.y, 'bo')\n",
    "\n",
    "            #Plot the inverse point, if it isn't at infinity:\n",
    "            try:\n",
    "                inv_x = self.x/(self.x**2 + self.y**2)\n",
    "                inv_y = self.y/(self.x**2 + self.y**2)\n",
    "\n",
    "                plt.plot(inv_x, inv_y, \"ro\")\n",
    "                \n",
    "            except ZeroDivisionError:\n",
    "                pass\n",
    "\n",
    "\n",
    "        #inverting a line:\n",
    "        if self.shape == \"line\":\n",
    "\n",
    "            #Plot the line given:\n",
    "            x = np.linspace(-50, 50, num = 50000)\n",
    "            y = self.m*x + self.b\n",
    "            plt.plot(x, y, color = \"blue\")\n",
    "\n",
    "            #Plot the inverse:\n",
    "            try:\n",
    "                inv_x = x/(x**2 + y**2)\n",
    "                inv_y = y/(x**2 + y**2)\n",
    "\n",
    "                plt.plot(inv_x, inv_y, color = \"red\")\n",
    "            \n",
    "            #If line is vertical:\n",
    "            except ZeroDivisionError:\n",
    "                pass\n",
    "\n",
    "        #inverting a circle:\n",
    "        if self.shape == \"circle\":\n",
    "            \n",
    "            #Plot the given circle:\n",
    "            #Upper half:\n",
    "            try:\n",
    "                x1 = np.linspace((self.x - self.r), (self.x + self.r), num = 50000)\n",
    "                y1 = np.sqrt(((self.r)**2 - (x1 - self.x)**2)) + self.y\n",
    "\n",
    "                #Lower half:\n",
    "                x2 = x1\n",
    "                y2 = -np.sqrt(((self.r)**2 - (x1 - self.x)**2)) + self.y\n",
    "\n",
    "                plt.plot(x1, y1, color = \"blue\")\n",
    "                plt.plot(x2, y2, color = \"blue\")\n",
    "            except:\n",
    "                pass\n",
    "            \n",
    "            #Plot the inverse:\n",
    "            try:\n",
    "                inv_x1 = x1/(x1**2 + y1**2)\n",
    "                inv_y1 = y1/(x1**2 + y1**2)\n",
    "                inv_x2 = x2/(x2**2 + y2**2)\n",
    "                inv_y2 = y2/(x2**2 + y2**2)\n",
    "                \n",
    "                plt.plot(inv_x1, inv_y1, color = \"red\")\n",
    "                plt.plot(inv_x2, inv_y2, color = \"red\")\n",
    "             \n",
    "            except:\n",
    "                pass\n",
    "            \n",
    "\n",
    "        #Set the axis scale and show the plot:\n",
    "        plt.axis([-5,5,-5,5])\n",
    "        plt.show()\n",
    "\n",
    "def inversion_diagram(shape):\n",
    "    \n",
    "    #Displays an interactive diagram that inverts a point:\n",
    "    if shape == \"point\":\n",
    "        \n",
    "        #Creating new Invert object and an interactive widget:\n",
    "        point_inv = Invert(shape = \"point\")\n",
    "        point_widget = interactive(point_inv.plot_inversion, x=(-5,5,.1), y=(-5,5,.1))\n",
    "\n",
    "        point_widget.children[0].layout.width = '99%'\n",
    "        point_widget.children[1].layout.width = '99%'\n",
    "        point_widget.children[0].description = r'$x$'\n",
    "        point_widget.children[1].description = r'$y$'\n",
    "\n",
    "        display(point_widget)\n",
    "        \n",
    "    #Displays an interactive diagram that inverts a line:\n",
    "    if shape == \"line\":\n",
    "        \n",
    "        #Creating new Invert object and an interactive widget:\n",
    "        line_inv = Invert(shape = \"line\")\n",
    "        line_widget = interactive(line_inv.plot_inversion, angle = (0,180,5), b = (-10,10,.1))\n",
    "\n",
    "        line_widget.children[0].layout.width = '99%'\n",
    "        line_widget.children[1].layout.width = '99%'\n",
    "        line_widget.children[0].description = 'Angle'\n",
    "        line_widget.children[1].description = r'$b$'\n",
    "\n",
    "        display(line_widget)\n",
    "        \n",
    "    if shape == \"circle\":\n",
    "        \n",
    "        #Creating new Invert object and an interactive widget:\n",
    "        circle_inv = Invert(shape = \"circle\")\n",
    "        circle_widget = interactive(circle_inv.plot_inversion, x = (-5,5,.1), y = (-5,5,.1), r = (0, 5, .1))\n",
    "\n",
    "        circle_widget.children[0].layout.width = '99%'\n",
    "        circle_widget.children[1].layout.width = '99%'\n",
    "        circle_widget.children[2].layout.width = '99%'\n",
    "        circle_widget.children[0].description = r'$x$'\n",
    "        circle_widget.children[1].description = r'$y$'\n",
    "        circle_widget.children[2].description = r'$r$'\n",
    "\n",
    "        display(circle_widget)\n",
    "        \n",
    "        \n",
    "def interact_inversion():\n",
    "    \n",
    "    #Creates three buttons, for selecting whether to invert a point, line or circle\n",
    "    #Sets up the layout of the buttons and box\n",
    "    button_layout = Layout(height='40px', min_width='40px')\n",
    "    box_layout = Layout(justify_content = \"center\")\n",
    "\n",
    "    #Creates the buttons\n",
    "    button1 = widgets.Button(description = \"Point\", button_style = \"primary\", layout = button_layout)\n",
    "    button2 = widgets.Button(description = \"Line\", button_style = \"primary\", layout = button_layout)\n",
    "    button3 = widgets.Button(description = \"Circle\", button_style = \"primary\", layout = button_layout)\n",
    "\n",
    "    buttons = [button1, button2, button3]\n",
    "\n",
    "    #Creates the box\n",
    "    button_box = Box(children = buttons, layout = box_layout)\n",
    "\n",
    "    #Displays the box with the buttons in it\n",
    "    print(\"Which type of object would you like to invert?\")\n",
    "    display(button_box)\n",
    "    \n",
    "    #Button event handlers:\n",
    "    def button1_clicked(b):        \n",
    "        clear_output()\n",
    "        display(button_box)\n",
    "        inversion_diagram(\"point\")\n",
    "        \n",
    "    def button2_clicked(b):        \n",
    "        clear_output()\n",
    "        display(button_box)\n",
    "        inversion_diagram(\"line\")\n",
    "        \n",
    "    def button3_clicked(b):        \n",
    "        clear_output()\n",
    "        display(button_box)\n",
    "        inversion_diagram(\"circle\")\n",
    "        \n",
    "    button1.on_click(button1_clicked)\n",
    "    button2.on_click(button2_clicked)\n",
    "    button3.on_click(button3_clicked)\n"
   ]
  },
  {
   "cell_type": "code",
   "execution_count": 40,
   "metadata": {},
   "outputs": [
    {
     "data": {
      "application/vnd.jupyter.widget-view+json": {
       "model_id": "932d07c88a0d431eb27e35969ea18c96",
       "version_major": 2,
       "version_minor": 0
      },
      "text/plain": [
       "Box(children=(Button(button_style='primary', description='Point', layout=Layout(height='40px', min_width='40px…"
      ]
     },
     "metadata": {},
     "output_type": "display_data"
    },
    {
     "data": {
      "application/vnd.jupyter.widget-view+json": {
       "model_id": "3516128989334798a04d893cc7eabf33",
       "version_major": 2,
       "version_minor": 0
      },
      "text/plain": [
       "interactive(children=(FloatSlider(value=0.0, description='$x$', layout=Layout(width='99%'), max=5.0, min=-5.0)…"
      ]
     },
     "metadata": {},
     "output_type": "display_data"
    }
   ],
   "source": [
    "interact_inversion()"
   ]
  },
  {
   "cell_type": "markdown",
   "metadata": {},
   "source": [
    "### More inversions\n",
    "\n",
    "Now let's look at what happens to some specific shapes when they are inverted, starting with a line that passes through the center of the circle:"
   ]
  },
  {
   "cell_type": "markdown",
   "metadata": {},
   "source": [
    "![Inversion](https://github.com/Ariel-VB/Circle-Inversion/blob/master/Inversion3.png?raw=true)"
   ]
  },
  {
   "cell_type": "markdown",
   "metadata": {},
   "source": [
    "The points inside the circle get mapped to points on the line outside of the circle, and vice versa. The line passes through the center point $O$, and so the complete inversion must be a line going to infinity.\n",
    "\n",
    "Circles invert to other circles, *except* when they pass through $O$, in which case they are straight lines going to infinity. These cases may be thought of as infinitely large circles, \"generalized circles\", so large that their edge is straight and they are indistinguishable from lines. In this case, we can say that circles always map to circles, and if the circle passes through $O$ or infinity, its inversion will pass through infinity or $O$ respectively."
   ]
  },
  {
   "cell_type": "markdown",
   "metadata": {},
   "source": [
    "![Inversion](https://github.com/Ariel-VB/Circle-Inversion/blob/master/Inversion4.png?raw=true)"
   ]
  },
  {
   "cell_type": "markdown",
   "metadata": {},
   "source": [
    "#### Watch this video by Numberphile for an interesting application of circle inversion:"
   ]
  },
  {
   "cell_type": "code",
   "execution_count": 29,
   "metadata": {},
   "outputs": [
    {
     "data": {
      "image/jpeg": "[encoded data removed]",
      "text/html": [
       "\n",
       "        <iframe\n",
       "            width=\"400\"\n",
       "            height=\"300\"\n",
       "            src=\"https://www.youtube.com/embed/sG_6nlMZ8f4\"\n",
       "            frameborder=\"0\"\n",
       "            allowfullscreen\n",
       "        ></iframe>\n",
       "        "
      ],
      "text/plain": [
       "<IPython.lib.display.YouTubeVideo at 0x1de08811da0>"
      ]
     },
     "execution_count": 29,
     "metadata": {},
     "output_type": "execute_result"
    }
   ],
   "source": [
    "from IPython.display import YouTubeVideo\n",
    "YouTubeVideo('sG_6nlMZ8f4')"
   ]
  },
  {
   "cell_type": "markdown",
   "metadata": {},
   "source": [
    "### Sources\n",
    "\n",
    "Problems for Senior High School Math, by Peter D. Taylor\n",
    "\n",
    "http://www.malinc.se/noneuclidean/en/circleinversion.php\n",
    "\n",
    "https://www.youtube.com/watch?v=sG_6nlMZ8f4"
   ]
  },
  {
   "cell_type": "code",
   "execution_count": null,
   "metadata": {},
   "outputs": [],
   "source": []
  }
 ],
 "metadata": {
  "kernelspec": {
   "display_name": "Python 3",
   "language": "python",
   "name": "python3"
  },
  "language_info": {
   "codemirror_mode": {
    "name": "ipython",
    "version": 3
   },
   "file_extension": ".py",
   "mimetype": "text/x-python",
   "name": "python",
   "nbconvert_exporter": "python",
   "pygments_lexer": "ipython3",
   "version": "3.6.5"
  }
 },
 "nbformat": 4,
 "nbformat_minor": 2
}
